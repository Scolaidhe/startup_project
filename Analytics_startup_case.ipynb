{
 "cells": [
  {
   "cell_type": "markdown",
   "id": "b122ec5f",
   "metadata": {
    "toc": true
   },
   "source": [
    "<h1>Table of Contents<span class=\"tocSkip\"></span></h1>\n",
    "<div class=\"toc\"><ul class=\"toc-item\"><li><span><a href=\"#Открываем-данные,-выводим-общую-информацию\" data-toc-modified-id=\"Открываем-данные,-выводим-общую-информацию-1\"><span class=\"toc-item-num\">1&nbsp;&nbsp;</span>Открываем данные, выводим общую информацию</a></span></li><li><span><a href=\"#Подготовка-данных\" data-toc-modified-id=\"Подготовка-данных-2\"><span class=\"toc-item-num\">2&nbsp;&nbsp;</span>Подготовка данных</a></span></li><li><span><a href=\"#Анализ-и-проверка-данных\" data-toc-modified-id=\"Анализ-и-проверка-данных-3\"><span class=\"toc-item-num\">3&nbsp;&nbsp;</span>Анализ и проверка данных</a></span></li><li><span><a href=\"#Анализ-воронки-событий\" data-toc-modified-id=\"Анализ-воронки-событий-4\"><span class=\"toc-item-num\">4&nbsp;&nbsp;</span>Анализ воронки событий</a></span></li><li><span><a href=\"#Анализируем-результаты-эксперимента\" data-toc-modified-id=\"Анализируем-результаты-эксперимента-5\"><span class=\"toc-item-num\">5&nbsp;&nbsp;</span>Анализируем результаты эксперимента</a></span></li></ul></div>"
   ]
  },
  {
   "cell_type": "markdown",
   "id": "3b28243f",
   "metadata": {},
   "source": [
    "# Анализ поведения пользователей в мобильном приложении"
   ]
  },
  {
   "cell_type": "markdown",
   "id": "68fa6e55",
   "metadata": {},
   "source": [
    "Мы работаем в стартапе, который продаёт продукты питания. Нужно разобраться, как ведут себя пользователи нашего мобильного приложения.\n",
    "\n",
    "Изучить воронку продаж. Узнать, как пользователи доходят до покупки. Сколько пользователей доходит до покупки, а сколько — «застревает» на предыдущих шагах? На каких именно?\n",
    "\n",
    "После этого исследовать результаты A/A/B-эксперимента. Дизайнеры захотели поменять шрифты во всём приложении, а менеджеры испугались, что пользователям будет непривычно. Договорились принять решение по результатам A/A/B-теста. Пользователей разбили на 3 группы: 2 контрольные со старыми шрифтами и одну экспериментальную — с новыми. Выяснить, какой шрифт лучше."
   ]
  },
  {
   "cell_type": "markdown",
   "id": "21dda5d0",
   "metadata": {},
   "source": [
    "_Описание данных._\n",
    "\n",
    "Структура `logs_exp.csv`. Каждая запись в логе — это действие пользователя, или событие.\n",
    "- `EventName` — название события;\n",
    "- `DeviceIDHash` — уникальный идентификатор пользователя;\n",
    "- `EventTimestamp` — время события;\n",
    "- `ExpId` — номер эксперимента: 246 и 247 — контрольные группы, а 248 — экспериментальная."
   ]
  },
  {
   "cell_type": "markdown",
   "id": "0ecdf415",
   "metadata": {},
   "source": [
    "*Цели и задачи:*\n",
    "1. Открыть файл с данными и изучить общую информацию.\n",
    "2. Подготовить данные.\n",
    "    - Заменить названия столбцов на более удобные;\n",
    "    - Проверить пропуски и типы данных. Откорректировать при необходимости;\n",
    "    - Добавить столбец даты и времени, а также отдельный столбец дат.\n",
    "3. Изучить и проверить данные.\n",
    "    - Сколько всего событий в логе?\n",
    "    - Сколько всего пользователей в логе?\n",
    "    - Сколько в среднем событий приходится на пользователя?\n",
    "    - Данными за какой период мы располагаем? Найти максимальную и минимальную дату. Построить гистограмму по дате и времени. Можно ли быть уверенным, что у нас одинаково полные данные за весь период? Технически в логи новых дней по некоторым пользователям могут «доезжать» события из прошлого — это может «перекашивать данные». Определить, с какого момента данные полные и отбросить более старые. Данными за какой период времени мы располагаем на самом деле?\n",
    "    - Много ли событий и пользователей мы потеряли, отбросив старые данные?\n",
    "    - Проверить, что у нас есть пользователи из всех трёх экспериментальных групп.\n",
    "4. Изучить воронку событий.\n",
    "    - Посмотреть, какие события есть в логах, как часто они встречаются. Отсортировать события по частоте.\n",
    "    - Посчитать, сколько пользователей совершали каждое из этих событий. Отсортировать события по числу пользователей. Посчитать долю пользователей, которые хоть раз совершали событие.\n",
    "    - Предположить, в каком порядке происходят события. Все ли они выстраиваются в последовательную цепочку? Их не нужно учитывать при расчёте воронки.\n",
    "    - По воронке событий посчитать, какая доля пользователей проходит на следующий шаг воронки (от числа пользователей на предыдущем). То есть для последовательности событий A → B → C посчитать отношение числа пользователей с событием B к количеству пользователей с событием A, а также отношение числа пользователей с событием C к количеству пользователей с событием B.\n",
    "    - На каком шаге теряем больше всего пользователей?\n",
    "    - Какая доля пользователей доходит от первого события до оплаты?\n",
    "5. Изучить результаты эксперимента.\n",
    "    - Сколько пользователей в каждой экспериментальной группе?\n",
    "    - Есть 2 контрольные группы для А/А-эксперимента, чтобы проверить корректность всех механизмов и расчётов. Проверить, находят ли статистические критерии разницу между выборками 246 и 247.\n",
    "    - Выберать самое популярное событие. Посчитать число пользователей, совершивших это событие в каждой из контрольных групп. Посчитать долю пользователей, совершивших это событие. Проверить, будет ли отличие между группами статистически достоверным. Проделать то же самое для всех других событий (удобно обернуть проверку в отдельную функцию). Можно ли сказать, что разбиение на группы работает корректно?\n",
    "    - Аналогично поступить с группой с изменённым шрифтом. Сравнить результаты с каждой из контрольных групп в отдельности по каждому событию. Сравнить результаты с объединённой контрольной группой. Какие выводы из эксперимента можно сделать?\n",
    "    - Какой уровень значимости мы выбрали при проверке статистических гипотез выше? Посчитать, сколько проверок статистических гипотез мы сделали. При уровне значимости 0.1 каждый десятый раз можно получать ложный результат. Какой уровень значимости стоит применить? Если мы хотим изменить его, проделать предыдущие пункты и проверить свои выводы."
   ]
  },
  {
   "cell_type": "markdown",
   "id": "da6ffcf1",
   "metadata": {},
   "source": [
    "## Открываем данные, выводим общую информацию"
   ]
  },
  {
   "cell_type": "code",
   "execution_count": 48,
   "id": "24932555",
   "metadata": {},
   "outputs": [],
   "source": [
    "# импортируем библиотеки\n",
    "import pandas as pd\n",
    "import datetime as dt\n",
    "import numpy as np\n",
    "import os\n",
    "import math as mth\n",
    "import matplotlib.pyplot as plt\n",
    "import scipy.stats as stats\n",
    "from pandas.plotting import register_matplotlib_converters\n",
    "import warnings\n",
    "# конвертеры, которые позволяют использовать типы pandas в matplotlib  \n",
    "register_matplotlib_converters()"
   ]
  },
  {
   "cell_type": "code",
   "execution_count": 2,
   "id": "2ec42358",
   "metadata": {},
   "outputs": [],
   "source": [
    "# улучшаем качество графиков (разрешение)\n",
    "%config InlineBackend.figure_format = 'retina'"
   ]
  },
  {
   "cell_type": "code",
   "execution_count": 3,
   "id": "54b3d899",
   "metadata": {},
   "outputs": [],
   "source": [
    "# считываем файл\n",
    "pth1 = 'C:/Users/sorial/Desktop/my_projects/startup_project/logs_exp.csv'\n",
    "pth2 = '/datasets/logs_exp.csv'\n",
    "\n",
    "if os.path.exists(pth1):\n",
    "    logs = pd.read_csv(pth1, sep='\\t')\n",
    "elif os.path.exists(pth2):\n",
    "    logs = pd.read_csv(pth2, sep='\\t')\n",
    "else:\n",
    "    print('Что-то пошло не так')"
   ]
  },
  {
   "cell_type": "markdown",
   "id": "0b04e773",
   "metadata": {},
   "source": [
    "## Подготовка данных"
   ]
  },
  {
   "cell_type": "code",
   "execution_count": 4,
   "id": "d563043a",
   "metadata": {},
   "outputs": [
    {
     "data": {
      "text/html": [
       "<div>\n",
       "<style scoped>\n",
       "    .dataframe tbody tr th:only-of-type {\n",
       "        vertical-align: middle;\n",
       "    }\n",
       "\n",
       "    .dataframe tbody tr th {\n",
       "        vertical-align: top;\n",
       "    }\n",
       "\n",
       "    .dataframe thead th {\n",
       "        text-align: right;\n",
       "    }\n",
       "</style>\n",
       "<table border=\"1\" class=\"dataframe\">\n",
       "  <thead>\n",
       "    <tr style=\"text-align: right;\">\n",
       "      <th></th>\n",
       "      <th>EventName</th>\n",
       "      <th>DeviceIDHash</th>\n",
       "      <th>EventTimestamp</th>\n",
       "      <th>ExpId</th>\n",
       "    </tr>\n",
       "  </thead>\n",
       "  <tbody>\n",
       "    <tr>\n",
       "      <th>0</th>\n",
       "      <td>MainScreenAppear</td>\n",
       "      <td>4575588528974610257</td>\n",
       "      <td>1564029816</td>\n",
       "      <td>246</td>\n",
       "    </tr>\n",
       "    <tr>\n",
       "      <th>1</th>\n",
       "      <td>MainScreenAppear</td>\n",
       "      <td>7416695313311560658</td>\n",
       "      <td>1564053102</td>\n",
       "      <td>246</td>\n",
       "    </tr>\n",
       "    <tr>\n",
       "      <th>2</th>\n",
       "      <td>PaymentScreenSuccessful</td>\n",
       "      <td>3518123091307005509</td>\n",
       "      <td>1564054127</td>\n",
       "      <td>248</td>\n",
       "    </tr>\n",
       "    <tr>\n",
       "      <th>3</th>\n",
       "      <td>CartScreenAppear</td>\n",
       "      <td>3518123091307005509</td>\n",
       "      <td>1564054127</td>\n",
       "      <td>248</td>\n",
       "    </tr>\n",
       "    <tr>\n",
       "      <th>4</th>\n",
       "      <td>PaymentScreenSuccessful</td>\n",
       "      <td>6217807653094995999</td>\n",
       "      <td>1564055322</td>\n",
       "      <td>248</td>\n",
       "    </tr>\n",
       "  </tbody>\n",
       "</table>\n",
       "</div>"
      ],
      "text/plain": [
       "                 EventName         DeviceIDHash  EventTimestamp  ExpId\n",
       "0         MainScreenAppear  4575588528974610257      1564029816    246\n",
       "1         MainScreenAppear  7416695313311560658      1564053102    246\n",
       "2  PaymentScreenSuccessful  3518123091307005509      1564054127    248\n",
       "3         CartScreenAppear  3518123091307005509      1564054127    248\n",
       "4  PaymentScreenSuccessful  6217807653094995999      1564055322    248"
      ]
     },
     "execution_count": 4,
     "metadata": {},
     "output_type": "execute_result"
    }
   ],
   "source": [
    "logs.head(5)"
   ]
  },
  {
   "cell_type": "code",
   "execution_count": 5,
   "id": "8ee6f554",
   "metadata": {},
   "outputs": [
    {
     "name": "stdout",
     "output_type": "stream",
     "text": [
      "<class 'pandas.core.frame.DataFrame'>\n",
      "RangeIndex: 244126 entries, 0 to 244125\n",
      "Data columns (total 4 columns):\n",
      " #   Column          Non-Null Count   Dtype \n",
      "---  ------          --------------   ----- \n",
      " 0   EventName       244126 non-null  object\n",
      " 1   DeviceIDHash    244126 non-null  int64 \n",
      " 2   EventTimestamp  244126 non-null  int64 \n",
      " 3   ExpId           244126 non-null  int64 \n",
      "dtypes: int64(3), object(1)\n",
      "memory usage: 7.5+ MB\n"
     ]
    }
   ],
   "source": [
    "logs.info()"
   ]
  },
  {
   "cell_type": "markdown",
   "id": "4d18c8fe",
   "metadata": {},
   "source": [
    "*Промежуточный вывод:* столбцы не содержат пропусков."
   ]
  },
  {
   "cell_type": "code",
   "execution_count": 6,
   "id": "cf939616",
   "metadata": {},
   "outputs": [],
   "source": [
    "# переименуем столбцы\n",
    "logs.columns = ['event_name', 'device_id_hash', 'event_timestamp', 'exp_id']"
   ]
  },
  {
   "cell_type": "code",
   "execution_count": 7,
   "id": "540bee89",
   "metadata": {},
   "outputs": [],
   "source": [
    "# отдельно выделим столбцы с датой и временем\n",
    "# и просто датой\n",
    "logs['dt'] = pd.to_datetime(logs['event_timestamp'], unit='s')\n",
    "logs['date'] = logs['dt'].dt.date"
   ]
  },
  {
   "cell_type": "code",
   "execution_count": 8,
   "id": "7a50d4e1",
   "metadata": {},
   "outputs": [],
   "source": [
    "#logs.head(5)"
   ]
  },
  {
   "cell_type": "code",
   "execution_count": 9,
   "id": "dc7d1c85",
   "metadata": {},
   "outputs": [
    {
     "data": {
      "text/html": [
       "<div>\n",
       "<style scoped>\n",
       "    .dataframe tbody tr th:only-of-type {\n",
       "        vertical-align: middle;\n",
       "    }\n",
       "\n",
       "    .dataframe tbody tr th {\n",
       "        vertical-align: top;\n",
       "    }\n",
       "\n",
       "    .dataframe thead th {\n",
       "        text-align: right;\n",
       "    }\n",
       "</style>\n",
       "<table border=\"1\" class=\"dataframe\">\n",
       "  <thead>\n",
       "    <tr style=\"text-align: right;\">\n",
       "      <th></th>\n",
       "      <th>event_name</th>\n",
       "      <th>device_id_hash</th>\n",
       "      <th>event_timestamp</th>\n",
       "      <th>exp_id</th>\n",
       "      <th>dt</th>\n",
       "      <th>date</th>\n",
       "    </tr>\n",
       "  </thead>\n",
       "  <tbody>\n",
       "    <tr>\n",
       "      <th>453</th>\n",
       "      <td>MainScreenAppear</td>\n",
       "      <td>5613408041324010552</td>\n",
       "      <td>1564474784</td>\n",
       "      <td>248</td>\n",
       "      <td>2019-07-30 08:19:44</td>\n",
       "      <td>2019-07-30</td>\n",
       "    </tr>\n",
       "    <tr>\n",
       "      <th>2350</th>\n",
       "      <td>CartScreenAppear</td>\n",
       "      <td>1694940645335807244</td>\n",
       "      <td>1564609899</td>\n",
       "      <td>248</td>\n",
       "      <td>2019-07-31 21:51:39</td>\n",
       "      <td>2019-07-31</td>\n",
       "    </tr>\n",
       "    <tr>\n",
       "      <th>3573</th>\n",
       "      <td>MainScreenAppear</td>\n",
       "      <td>434103746454591587</td>\n",
       "      <td>1564628377</td>\n",
       "      <td>248</td>\n",
       "      <td>2019-08-01 02:59:37</td>\n",
       "      <td>2019-08-01</td>\n",
       "    </tr>\n",
       "    <tr>\n",
       "      <th>4076</th>\n",
       "      <td>MainScreenAppear</td>\n",
       "      <td>3761373764179762633</td>\n",
       "      <td>1564631266</td>\n",
       "      <td>247</td>\n",
       "      <td>2019-08-01 03:47:46</td>\n",
       "      <td>2019-08-01</td>\n",
       "    </tr>\n",
       "    <tr>\n",
       "      <th>4803</th>\n",
       "      <td>MainScreenAppear</td>\n",
       "      <td>2835328739789306622</td>\n",
       "      <td>1564634641</td>\n",
       "      <td>248</td>\n",
       "      <td>2019-08-01 04:44:01</td>\n",
       "      <td>2019-08-01</td>\n",
       "    </tr>\n",
       "    <tr>\n",
       "      <th>...</th>\n",
       "      <td>...</td>\n",
       "      <td>...</td>\n",
       "      <td>...</td>\n",
       "      <td>...</td>\n",
       "      <td>...</td>\n",
       "      <td>...</td>\n",
       "    </tr>\n",
       "    <tr>\n",
       "      <th>242329</th>\n",
       "      <td>MainScreenAppear</td>\n",
       "      <td>8870358373313968633</td>\n",
       "      <td>1565206004</td>\n",
       "      <td>247</td>\n",
       "      <td>2019-08-07 19:26:44</td>\n",
       "      <td>2019-08-07</td>\n",
       "    </tr>\n",
       "    <tr>\n",
       "      <th>242332</th>\n",
       "      <td>PaymentScreenSuccessful</td>\n",
       "      <td>4718002964983105693</td>\n",
       "      <td>1565206005</td>\n",
       "      <td>247</td>\n",
       "      <td>2019-08-07 19:26:45</td>\n",
       "      <td>2019-08-07</td>\n",
       "    </tr>\n",
       "    <tr>\n",
       "      <th>242360</th>\n",
       "      <td>PaymentScreenSuccessful</td>\n",
       "      <td>2382591782303281935</td>\n",
       "      <td>1565206049</td>\n",
       "      <td>246</td>\n",
       "      <td>2019-08-07 19:27:29</td>\n",
       "      <td>2019-08-07</td>\n",
       "    </tr>\n",
       "    <tr>\n",
       "      <th>242362</th>\n",
       "      <td>CartScreenAppear</td>\n",
       "      <td>2382591782303281935</td>\n",
       "      <td>1565206049</td>\n",
       "      <td>246</td>\n",
       "      <td>2019-08-07 19:27:29</td>\n",
       "      <td>2019-08-07</td>\n",
       "    </tr>\n",
       "    <tr>\n",
       "      <th>242635</th>\n",
       "      <td>MainScreenAppear</td>\n",
       "      <td>4097782667445790512</td>\n",
       "      <td>1565206618</td>\n",
       "      <td>246</td>\n",
       "      <td>2019-08-07 19:36:58</td>\n",
       "      <td>2019-08-07</td>\n",
       "    </tr>\n",
       "  </tbody>\n",
       "</table>\n",
       "<p>413 rows × 6 columns</p>\n",
       "</div>"
      ],
      "text/plain": [
       "                     event_name       device_id_hash  event_timestamp  exp_id  \\\n",
       "453            MainScreenAppear  5613408041324010552       1564474784     248   \n",
       "2350           CartScreenAppear  1694940645335807244       1564609899     248   \n",
       "3573           MainScreenAppear   434103746454591587       1564628377     248   \n",
       "4076           MainScreenAppear  3761373764179762633       1564631266     247   \n",
       "4803           MainScreenAppear  2835328739789306622       1564634641     248   \n",
       "...                         ...                  ...              ...     ...   \n",
       "242329         MainScreenAppear  8870358373313968633       1565206004     247   \n",
       "242332  PaymentScreenSuccessful  4718002964983105693       1565206005     247   \n",
       "242360  PaymentScreenSuccessful  2382591782303281935       1565206049     246   \n",
       "242362         CartScreenAppear  2382591782303281935       1565206049     246   \n",
       "242635         MainScreenAppear  4097782667445790512       1565206618     246   \n",
       "\n",
       "                        dt        date  \n",
       "453    2019-07-30 08:19:44  2019-07-30  \n",
       "2350   2019-07-31 21:51:39  2019-07-31  \n",
       "3573   2019-08-01 02:59:37  2019-08-01  \n",
       "4076   2019-08-01 03:47:46  2019-08-01  \n",
       "4803   2019-08-01 04:44:01  2019-08-01  \n",
       "...                    ...         ...  \n",
       "242329 2019-08-07 19:26:44  2019-08-07  \n",
       "242332 2019-08-07 19:26:45  2019-08-07  \n",
       "242360 2019-08-07 19:27:29  2019-08-07  \n",
       "242362 2019-08-07 19:27:29  2019-08-07  \n",
       "242635 2019-08-07 19:36:58  2019-08-07  \n",
       "\n",
       "[413 rows x 6 columns]"
      ]
     },
     "execution_count": 9,
     "metadata": {},
     "output_type": "execute_result"
    }
   ],
   "source": [
    "# проверим наличие явных дубликатов\n",
    "logs.loc[logs.duplicated()]"
   ]
  },
  {
   "cell_type": "markdown",
   "id": "e36493f6",
   "metadata": {},
   "source": [
    "В таблице обнаружено 413 строк дубликатов, мы можем их просто удалить, чтобы они не повлияли на дальнейший анализ."
   ]
  },
  {
   "cell_type": "code",
   "execution_count": 10,
   "id": "f305e4da",
   "metadata": {},
   "outputs": [
    {
     "data": {
      "text/html": [
       "<div>\n",
       "<style scoped>\n",
       "    .dataframe tbody tr th:only-of-type {\n",
       "        vertical-align: middle;\n",
       "    }\n",
       "\n",
       "    .dataframe tbody tr th {\n",
       "        vertical-align: top;\n",
       "    }\n",
       "\n",
       "    .dataframe thead th {\n",
       "        text-align: right;\n",
       "    }\n",
       "</style>\n",
       "<table border=\"1\" class=\"dataframe\">\n",
       "  <thead>\n",
       "    <tr style=\"text-align: right;\">\n",
       "      <th></th>\n",
       "      <th>event_name</th>\n",
       "      <th>device_id_hash</th>\n",
       "      <th>event_timestamp</th>\n",
       "      <th>exp_id</th>\n",
       "      <th>dt</th>\n",
       "      <th>date</th>\n",
       "    </tr>\n",
       "  </thead>\n",
       "  <tbody>\n",
       "  </tbody>\n",
       "</table>\n",
       "</div>"
      ],
      "text/plain": [
       "Empty DataFrame\n",
       "Columns: [event_name, device_id_hash, event_timestamp, exp_id, dt, date]\n",
       "Index: []"
      ]
     },
     "execution_count": 10,
     "metadata": {},
     "output_type": "execute_result"
    }
   ],
   "source": [
    "logs = logs.drop_duplicates()\n",
    "logs.loc[logs.duplicated()]"
   ]
  },
  {
   "cell_type": "markdown",
   "id": "cfe6a1a2",
   "metadata": {},
   "source": [
    "## Анализ и проверка данных"
   ]
  },
  {
   "cell_type": "markdown",
   "id": "9cc98803",
   "metadata": {},
   "source": [
    "Проверим сколько всего событий в логах."
   ]
  },
  {
   "cell_type": "code",
   "execution_count": 11,
   "id": "29661a1a",
   "metadata": {},
   "outputs": [
    {
     "data": {
      "text/plain": [
       "243713"
      ]
     },
     "execution_count": 11,
     "metadata": {},
     "output_type": "execute_result"
    }
   ],
   "source": [
    "logs['event_name'].count()"
   ]
  },
  {
   "cell_type": "markdown",
   "id": "cd344527",
   "metadata": {},
   "source": [
    "Итого в логах имеется 243713 событий."
   ]
  },
  {
   "cell_type": "markdown",
   "id": "aacdbe0a",
   "metadata": {},
   "source": [
    "Посчитаем сколько всего уникальных пользователей."
   ]
  },
  {
   "cell_type": "code",
   "execution_count": 12,
   "id": "969ae332",
   "metadata": {},
   "outputs": [
    {
     "data": {
      "text/plain": [
       "7551"
      ]
     },
     "execution_count": 12,
     "metadata": {},
     "output_type": "execute_result"
    }
   ],
   "source": [
    "logs['device_id_hash'].nunique()"
   ]
  },
  {
   "cell_type": "markdown",
   "id": "9a5cc2dc",
   "metadata": {},
   "source": [
    "Всего 7551 уникальных пользователей."
   ]
  },
  {
   "cell_type": "markdown",
   "id": "aa310609",
   "metadata": {},
   "source": [
    "Посчитаем сколько в среднем событий приходится на одного пользователя"
   ]
  },
  {
   "cell_type": "code",
   "execution_count": 13,
   "id": "a071bbef",
   "metadata": {},
   "outputs": [
    {
     "data": {
      "text/plain": [
       "32.27559263673685"
      ]
     },
     "execution_count": 13,
     "metadata": {},
     "output_type": "execute_result"
    }
   ],
   "source": [
    "logs.groupby('device_id_hash')['event_name'].count().mean()"
   ]
  },
  {
   "cell_type": "markdown",
   "id": "5885b5c8",
   "metadata": {},
   "source": [
    "Итого на одного пользователя в среднем приходится 32 события."
   ]
  },
  {
   "cell_type": "markdown",
   "id": "00996f86",
   "metadata": {},
   "source": [
    "Посмотрим за какой период имеются данные. Посчитаем минимальную и максимальную дату. Построим гистрограмму по дате и времени."
   ]
  },
  {
   "cell_type": "code",
   "execution_count": 14,
   "id": "43e2283e",
   "metadata": {},
   "outputs": [
    {
     "name": "stdout",
     "output_type": "stream",
     "text": [
      "2019-07-25 04:43:36\n",
      "2019-08-07 21:15:17\n"
     ]
    }
   ],
   "source": [
    "print(logs['dt'].min())\n",
    "print(logs['dt'].max())"
   ]
  },
  {
   "cell_type": "markdown",
   "id": "9e69372b",
   "metadata": {},
   "source": [
    "Минимальная дата 2019-07-25, максимальная 2019-08-07, т.е. имеются данные за две недели."
   ]
  },
  {
   "cell_type": "code",
   "execution_count": 15,
   "id": "f61e7abf",
   "metadata": {},
   "outputs": [
    {
     "data": {
      "image/png": "[encoded data removed]",
      "text/plain": [
       "<Figure size 640x480 with 1 Axes>"
      ]
     },
     "metadata": {
      "image/png": {
       "height": 507,
       "width": 589
      }
     },
     "output_type": "display_data"
    }
   ],
   "source": [
    "logs['dt'].hist()\n",
    "\n",
    "plt.xticks(rotation=45)\n",
    "plt.ylabel('количество записей')\n",
    "plt.xlabel('дата')\n",
    "plt.title('Гистограмма по дате и времени')\n",
    "plt.show()"
   ]
  },
  {
   "cell_type": "markdown",
   "id": "0b873d6d",
   "metadata": {},
   "source": [
    "**Вывод по гистрограмме:** из графика можно заметить, что количество данных наиболее полное начиная с 2019-08-01, до этого дня данных в значительной степени меньше."
   ]
  },
  {
   "cell_type": "markdown",
   "id": "55f0abf9",
   "metadata": {},
   "source": [
    "Отбросим старые данные, оставим только те события, которые происходили начиная с 2019-08-01."
   ]
  },
  {
   "cell_type": "code",
   "execution_count": 16,
   "id": "26ddace8",
   "metadata": {},
   "outputs": [],
   "source": [
    "logs_relevant = logs.query('dt >= \"2019-08-01\"')"
   ]
  },
  {
   "cell_type": "markdown",
   "id": "3e1fb483",
   "metadata": {},
   "source": [
    "Посмотрим как много пользователей и событий было потеряно в результате фильтровки."
   ]
  },
  {
   "cell_type": "code",
   "execution_count": 17,
   "id": "ac30999f",
   "metadata": {},
   "outputs": [
    {
     "name": "stdout",
     "output_type": "stream",
     "text": [
      "Абсолютное число оставшихся пользователей: 7534\n",
      "Процентное соотношение оставшихся пользователей ко всем: 99.77%\n"
     ]
    }
   ],
   "source": [
    "print('Абсолютное число оставшихся пользователей:', logs_relevant['device_id_hash'].nunique())\n",
    "print('Процентное соотношение оставшихся пользователей ко всем: {0:.2f}%'.format( \n",
    "      logs_relevant['device_id_hash'].nunique() / logs['device_id_hash'].nunique() * 100))"
   ]
  },
  {
   "cell_type": "code",
   "execution_count": 18,
   "id": "d2a9db1e",
   "metadata": {},
   "outputs": [
    {
     "name": "stdout",
     "output_type": "stream",
     "text": [
      "Абсолютное число оставшихся событий: 240887\n",
      "Процентное соотношение оставшихся пользователей ко всем: 98.84%\n"
     ]
    }
   ],
   "source": [
    "print('Абсолютное число оставшихся событий:', logs_relevant['event_name'].count())\n",
    "print('Процентное соотношение оставшихся пользователей ко всем: {0:.2f}%'.format( \n",
    "      logs_relevant['event_name'].count() / logs['event_name'].count() * 100))"
   ]
  },
  {
   "cell_type": "markdown",
   "id": "ac0955ca",
   "metadata": {},
   "source": [
    "**Вывод о фильтровке:** мы отфильтровали ненужные данные, при этом потеряли всего около 0.23% уникальных пользователей и 1.16% от всех событий, следовательно такие минимальные потери не должны повлиять на дальнейший анализ. "
   ]
  },
  {
   "cell_type": "markdown",
   "id": "dc3d6f4f",
   "metadata": {},
   "source": [
    "Также проверим сколько пользователей у нас осталось в каждой группе теста."
   ]
  },
  {
   "cell_type": "code",
   "execution_count": 40,
   "id": "4a785d2c",
   "metadata": {},
   "outputs": [
    {
     "data": {
      "text/plain": [
       "exp_id\n",
       "246    2484\n",
       "247    2513\n",
       "248    2537\n",
       "Name: device_id_hash, dtype: int64"
      ]
     },
     "execution_count": 40,
     "metadata": {},
     "output_type": "execute_result"
    }
   ],
   "source": [
    "quantity_of_users_per_group = logs_relevant.groupby('exp_id')['device_id_hash'].nunique()\n",
    "quantity_of_users_per_group"
   ]
  },
  {
   "cell_type": "markdown",
   "id": "8b7a7d36",
   "metadata": {},
   "source": [
    "**Вывод:** в каждой группе остались уникальные пользователи, примерно в равных значениях."
   ]
  },
  {
   "cell_type": "markdown",
   "id": "134561dc",
   "metadata": {},
   "source": [
    "## Анализ воронки событий"
   ]
  },
  {
   "cell_type": "markdown",
   "id": "70b86ddf",
   "metadata": {},
   "source": [
    "Посмотрим, какие события есть в логах, как часто они встречаются. Отсортируем события по частоте."
   ]
  },
  {
   "cell_type": "code",
   "execution_count": 20,
   "id": "e6a9f866",
   "metadata": {},
   "outputs": [
    {
     "data": {
      "text/html": [
       "<div>\n",
       "<style scoped>\n",
       "    .dataframe tbody tr th:only-of-type {\n",
       "        vertical-align: middle;\n",
       "    }\n",
       "\n",
       "    .dataframe tbody tr th {\n",
       "        vertical-align: top;\n",
       "    }\n",
       "\n",
       "    .dataframe thead th {\n",
       "        text-align: right;\n",
       "    }\n",
       "</style>\n",
       "<table border=\"1\" class=\"dataframe\">\n",
       "  <thead>\n",
       "    <tr style=\"text-align: right;\">\n",
       "      <th></th>\n",
       "      <th>quantity_of_events</th>\n",
       "    </tr>\n",
       "    <tr>\n",
       "      <th>event_name</th>\n",
       "      <th></th>\n",
       "    </tr>\n",
       "  </thead>\n",
       "  <tbody>\n",
       "    <tr>\n",
       "      <th>MainScreenAppear</th>\n",
       "      <td>117328</td>\n",
       "    </tr>\n",
       "    <tr>\n",
       "      <th>OffersScreenAppear</th>\n",
       "      <td>46333</td>\n",
       "    </tr>\n",
       "    <tr>\n",
       "      <th>CartScreenAppear</th>\n",
       "      <td>42303</td>\n",
       "    </tr>\n",
       "    <tr>\n",
       "      <th>PaymentScreenSuccessful</th>\n",
       "      <td>33918</td>\n",
       "    </tr>\n",
       "    <tr>\n",
       "      <th>Tutorial</th>\n",
       "      <td>1005</td>\n",
       "    </tr>\n",
       "  </tbody>\n",
       "</table>\n",
       "</div>"
      ],
      "text/plain": [
       "                         quantity_of_events\n",
       "event_name                                 \n",
       "MainScreenAppear                     117328\n",
       "OffersScreenAppear                    46333\n",
       "CartScreenAppear                      42303\n",
       "PaymentScreenSuccessful               33918\n",
       "Tutorial                               1005"
      ]
     },
     "execution_count": 20,
     "metadata": {},
     "output_type": "execute_result"
    }
   ],
   "source": [
    "(\n",
    "    logs_relevant\n",
    "    .groupby('event_name')\n",
    "    .agg({'event_name':'count'})\n",
    "    .rename(columns={'event_name':'quantity_of_events'})\n",
    "    .sort_values(by='quantity_of_events', ascending=False)\n",
    ")"
   ]
  },
  {
   "cell_type": "markdown",
   "id": "cc1ce3c5",
   "metadata": {},
   "source": [
    "**Вывод:** получилось всего 5 уникальных событий: появление основного экрана, появление экрана предложений, появления экрана корзины, экран успешной покупки, туториал. При этом туториал был задействован меньше всех: 1005 раз, а на основной экан попадали 117328 раз."
   ]
  },
  {
   "cell_type": "markdown",
   "id": "5439726a",
   "metadata": {},
   "source": [
    "Посчитаем, сколько пользователей совершали каждое из этих событий. Отсортируем события по числу пользователей. Посчитаем долю пользователей, которые хоть раз совершали событие."
   ]
  },
  {
   "cell_type": "code",
   "execution_count": 22,
   "id": "d39e84cd",
   "metadata": {},
   "outputs": [],
   "source": [
    "funnel_events = \\\n",
    "(\n",
    "    logs_relevant\n",
    "    .groupby('event_name')\n",
    "    .agg({'device_id_hash':'nunique'})\n",
    "    .rename(columns={'device_id_hash':'quantity_of_users'})\n",
    "    .sort_values(by='quantity_of_users', ascending=False)\n",
    ")"
   ]
  },
  {
   "cell_type": "markdown",
   "id": "7880c1d8",
   "metadata": {},
   "source": [
    "**Вывод:** у 7419 уникальных пользователей появлялся основной экран, и меньше всего уникальных пользователей прошло событие туториал."
   ]
  },
  {
   "cell_type": "markdown",
   "id": "241656af",
   "metadata": {},
   "source": [
    "Предположить, в каком порядке происходят события. Все ли они выстраиваются в последовательную цепочку? Их не нужно учитывать при расчёте воронки."
   ]
  },
  {
   "cell_type": "markdown",
   "id": "244a6e03",
   "metadata": {},
   "source": [
    "**Предположение:** на основе предыдущих выводов, можно предположить, что события выстраиваются в следующую цепочку: *MainScreenAppear*, *OffersScreenAppear*, *CartScreenAppear*, *PaymentScreenSuccessful*. Исходя из логики, получается та же цепочка, т.е. сначала пользователь заходит на основной экран, далее переходит на экран предложений, добавляет в корзину желаемый продукт и оплачивает его. Туториал при этом стоит исключить, т.к. он не вписывается в данную цепь. "
   ]
  },
  {
   "cell_type": "markdown",
   "id": "7b37c366",
   "metadata": {},
   "source": [
    "По воронке событий посчитать, какая доля пользователей проходит на следующий шаг воронки (от числа пользователей на предыдущем). То есть для последовательности событий A → B → C посчитать отношение числа пользователей с событием B к количеству пользователей с событием A, а также отношение числа пользователей с событием C к количеству пользователей с событием B."
   ]
  },
  {
   "cell_type": "code",
   "execution_count": 27,
   "id": "dba17054",
   "metadata": {
    "scrolled": true
   },
   "outputs": [
    {
     "data": {
      "text/html": [
       "<div>\n",
       "<style scoped>\n",
       "    .dataframe tbody tr th:only-of-type {\n",
       "        vertical-align: middle;\n",
       "    }\n",
       "\n",
       "    .dataframe tbody tr th {\n",
       "        vertical-align: top;\n",
       "    }\n",
       "\n",
       "    .dataframe thead th {\n",
       "        text-align: right;\n",
       "    }\n",
       "</style>\n",
       "<table border=\"1\" class=\"dataframe\">\n",
       "  <thead>\n",
       "    <tr style=\"text-align: right;\">\n",
       "      <th></th>\n",
       "      <th>quantity_of_users</th>\n",
       "      <th>rel_decrease</th>\n",
       "    </tr>\n",
       "    <tr>\n",
       "      <th>event_name</th>\n",
       "      <th></th>\n",
       "      <th></th>\n",
       "    </tr>\n",
       "  </thead>\n",
       "  <tbody>\n",
       "    <tr>\n",
       "      <th>MainScreenAppear</th>\n",
       "      <td>7419</td>\n",
       "      <td>NaN</td>\n",
       "    </tr>\n",
       "    <tr>\n",
       "      <th>OffersScreenAppear</th>\n",
       "      <td>4593</td>\n",
       "      <td>0.62</td>\n",
       "    </tr>\n",
       "    <tr>\n",
       "      <th>CartScreenAppear</th>\n",
       "      <td>3734</td>\n",
       "      <td>0.81</td>\n",
       "    </tr>\n",
       "    <tr>\n",
       "      <th>PaymentScreenSuccessful</th>\n",
       "      <td>3539</td>\n",
       "      <td>0.95</td>\n",
       "    </tr>\n",
       "    <tr>\n",
       "      <th>Tutorial</th>\n",
       "      <td>840</td>\n",
       "      <td>0.24</td>\n",
       "    </tr>\n",
       "  </tbody>\n",
       "</table>\n",
       "</div>"
      ],
      "text/plain": [
       "                         quantity_of_users  rel_decrease\n",
       "event_name                                              \n",
       "MainScreenAppear                      7419           NaN\n",
       "OffersScreenAppear                    4593          0.62\n",
       "CartScreenAppear                      3734          0.81\n",
       "PaymentScreenSuccessful               3539          0.95\n",
       "Tutorial                               840          0.24"
      ]
     },
     "execution_count": 27,
     "metadata": {},
     "output_type": "execute_result"
    }
   ],
   "source": [
    "funnel_events['rel_decrease'] = abs(1+funnel_events['quantity_of_users'].pct_change()).round(2)\n",
    "funnel_events"
   ]
  },
  {
   "cell_type": "markdown",
   "id": "6be98840",
   "metadata": {},
   "source": [
    "На каком шаге теряется больше всего пользователей?"
   ]
  },
  {
   "cell_type": "markdown",
   "id": "b2c9f5bc",
   "metadata": {},
   "source": [
    "**Вывод:** не учитывая туториал, больше всего людей теряется на шаге с предложениями."
   ]
  },
  {
   "cell_type": "markdown",
   "id": "014060a7",
   "metadata": {},
   "source": [
    "Какая доля пользователей доходит от первого события до оплаты?"
   ]
  },
  {
   "cell_type": "code",
   "execution_count": 37,
   "id": "842439ce",
   "metadata": {},
   "outputs": [
    {
     "name": "stdout",
     "output_type": "stream",
     "text": [
      "От первого шага до последнего шага доходит: 47.7% пользователей\n"
     ]
    }
   ],
   "source": [
    "success_rel = (\n",
    "    funnel_events.loc['PaymentScreenSuccessful', 'quantity_of_users']\\\n",
    "    / funnel_events.loc['MainScreenAppear', 'quantity_of_users']\n",
    ")\n",
    "print('От первого шага до оплаты доходит: {0:.1f}% пользователей'.format(success_rel*100))"
   ]
  },
  {
   "cell_type": "markdown",
   "id": "55113904",
   "metadata": {},
   "source": [
    "**Вывод:** от первого шага (MainScreenAppear) до оплаты (PaymentScreenSuccessful) доходит 47.7% пользователей."
   ]
  },
  {
   "cell_type": "markdown",
   "id": "4ed94baf",
   "metadata": {},
   "source": [
    "## Анализируем результаты эксперимента"
   ]
  },
  {
   "cell_type": "markdown",
   "id": "59a2f354",
   "metadata": {},
   "source": [
    "Посчитаем сколько пользователей в каждой экспериментальной группе."
   ]
  },
  {
   "cell_type": "code",
   "execution_count": 38,
   "id": "656e5092",
   "metadata": {},
   "outputs": [
    {
     "data": {
      "text/plain": [
       "exp_id\n",
       "246    2484\n",
       "247    2513\n",
       "248    2537\n",
       "Name: device_id_hash, dtype: int64"
      ]
     },
     "execution_count": 38,
     "metadata": {},
     "output_type": "execute_result"
    }
   ],
   "source": [
    "quantity_of_users_per_group"
   ]
  },
  {
   "cell_type": "markdown",
   "id": "aaebe60c",
   "metadata": {},
   "source": [
    "**Вывод:** в каждой группе остались уникальные пользователи, примерно в равных значениях."
   ]
  },
  {
   "cell_type": "markdown",
   "id": "6fe43245",
   "metadata": {},
   "source": [
    "Есть 2 контрольные группы для А/А-эксперимента, чтобы проверить корректность всех механизмов и расчётов. Проверим, находят ли статистические критерии разницу между выборками 246 и 247."
   ]
  },
  {
   "cell_type": "code",
   "execution_count": 45,
   "id": "9de901a4",
   "metadata": {},
   "outputs": [
    {
     "data": {
      "text/html": [
       "<div>\n",
       "<style scoped>\n",
       "    .dataframe tbody tr th:only-of-type {\n",
       "        vertical-align: middle;\n",
       "    }\n",
       "\n",
       "    .dataframe tbody tr th {\n",
       "        vertical-align: top;\n",
       "    }\n",
       "\n",
       "    .dataframe thead th {\n",
       "        text-align: right;\n",
       "    }\n",
       "</style>\n",
       "<table border=\"1\" class=\"dataframe\">\n",
       "  <thead>\n",
       "    <tr style=\"text-align: right;\">\n",
       "      <th></th>\n",
       "      <th>quantity_of_users</th>\n",
       "      <th>rel_decrease</th>\n",
       "    </tr>\n",
       "    <tr>\n",
       "      <th>event_name</th>\n",
       "      <th></th>\n",
       "      <th></th>\n",
       "    </tr>\n",
       "  </thead>\n",
       "  <tbody>\n",
       "    <tr>\n",
       "      <th>MainScreenAppear</th>\n",
       "      <td>2450</td>\n",
       "      <td>NaN</td>\n",
       "    </tr>\n",
       "    <tr>\n",
       "      <th>OffersScreenAppear</th>\n",
       "      <td>1542</td>\n",
       "      <td>0.63</td>\n",
       "    </tr>\n",
       "    <tr>\n",
       "      <th>CartScreenAppear</th>\n",
       "      <td>1266</td>\n",
       "      <td>0.82</td>\n",
       "    </tr>\n",
       "    <tr>\n",
       "      <th>PaymentScreenSuccessful</th>\n",
       "      <td>1200</td>\n",
       "      <td>0.95</td>\n",
       "    </tr>\n",
       "    <tr>\n",
       "      <th>Tutorial</th>\n",
       "      <td>278</td>\n",
       "      <td>0.23</td>\n",
       "    </tr>\n",
       "  </tbody>\n",
       "</table>\n",
       "</div>"
      ],
      "text/plain": [
       "                         quantity_of_users  rel_decrease\n",
       "event_name                                              \n",
       "MainScreenAppear                      2450           NaN\n",
       "OffersScreenAppear                    1542          0.63\n",
       "CartScreenAppear                      1266          0.82\n",
       "PaymentScreenSuccessful               1200          0.95\n",
       "Tutorial                               278          0.23"
      ]
     },
     "execution_count": 45,
     "metadata": {},
     "output_type": "execute_result"
    }
   ],
   "source": [
    "exp_246 = (\n",
    "\n",
    "    logs_relevant\n",
    "    .query('exp_id == 246')\n",
    "    .groupby('event_name')\n",
    "    .agg({'device_id_hash':'nunique'})\n",
    "    .rename(columns={'device_id_hash':'quantity_of_users'})\n",
    "    .sort_values(by='quantity_of_users', ascending=False)\n",
    ")\n",
    "exp_246['rel_decrease'] = abs(1+exp_246['quantity_of_users'].pct_change()).round(2)\n",
    "exp_246"
   ]
  },
  {
   "cell_type": "code",
   "execution_count": 46,
   "id": "c0842147",
   "metadata": {},
   "outputs": [
    {
     "data": {
      "text/html": [
       "<div>\n",
       "<style scoped>\n",
       "    .dataframe tbody tr th:only-of-type {\n",
       "        vertical-align: middle;\n",
       "    }\n",
       "\n",
       "    .dataframe tbody tr th {\n",
       "        vertical-align: top;\n",
       "    }\n",
       "\n",
       "    .dataframe thead th {\n",
       "        text-align: right;\n",
       "    }\n",
       "</style>\n",
       "<table border=\"1\" class=\"dataframe\">\n",
       "  <thead>\n",
       "    <tr style=\"text-align: right;\">\n",
       "      <th></th>\n",
       "      <th>quantity_of_users</th>\n",
       "      <th>rel_decrease</th>\n",
       "    </tr>\n",
       "    <tr>\n",
       "      <th>event_name</th>\n",
       "      <th></th>\n",
       "      <th></th>\n",
       "    </tr>\n",
       "  </thead>\n",
       "  <tbody>\n",
       "    <tr>\n",
       "      <th>MainScreenAppear</th>\n",
       "      <td>2476</td>\n",
       "      <td>NaN</td>\n",
       "    </tr>\n",
       "    <tr>\n",
       "      <th>OffersScreenAppear</th>\n",
       "      <td>1520</td>\n",
       "      <td>0.61</td>\n",
       "    </tr>\n",
       "    <tr>\n",
       "      <th>CartScreenAppear</th>\n",
       "      <td>1238</td>\n",
       "      <td>0.81</td>\n",
       "    </tr>\n",
       "    <tr>\n",
       "      <th>PaymentScreenSuccessful</th>\n",
       "      <td>1158</td>\n",
       "      <td>0.94</td>\n",
       "    </tr>\n",
       "    <tr>\n",
       "      <th>Tutorial</th>\n",
       "      <td>283</td>\n",
       "      <td>0.24</td>\n",
       "    </tr>\n",
       "  </tbody>\n",
       "</table>\n",
       "</div>"
      ],
      "text/plain": [
       "                         quantity_of_users  rel_decrease\n",
       "event_name                                              \n",
       "MainScreenAppear                      2476           NaN\n",
       "OffersScreenAppear                    1520          0.61\n",
       "CartScreenAppear                      1238          0.81\n",
       "PaymentScreenSuccessful               1158          0.94\n",
       "Tutorial                               283          0.24"
      ]
     },
     "execution_count": 46,
     "metadata": {},
     "output_type": "execute_result"
    }
   ],
   "source": [
    "exp_247 = (\n",
    "    logs_relevant\n",
    "    .query('exp_id == 247')\n",
    "    .groupby('event_name')\n",
    "    .agg({'device_id_hash':'nunique'})\n",
    "    .rename(columns={'device_id_hash':'quantity_of_users'})\n",
    "    .sort_values(by='quantity_of_users', ascending=False)\n",
    ")\n",
    "exp_247['rel_decrease'] = abs(1+exp_247['quantity_of_users'].pct_change()).round(2)\n",
    "exp_247"
   ]
  },
  {
   "cell_type": "code",
   "execution_count": 47,
   "id": "793a237a",
   "metadata": {},
   "outputs": [
    {
     "data": {
      "text/plain": [
       "event_name\n",
       "MainScreenAppear            NaN\n",
       "OffersScreenAppear         0.02\n",
       "CartScreenAppear           0.01\n",
       "PaymentScreenSuccessful    0.01\n",
       "Tutorial                  -0.01\n",
       "Name: rel_decrease, dtype: float64"
      ]
     },
     "execution_count": 47,
     "metadata": {},
     "output_type": "execute_result"
    }
   ],
   "source": [
    "delta_AA = exp_246['rel_decrease'] - exp_247['rel_decrease']\n",
    "delta_AA"
   ]
  },
  {
   "cell_type": "markdown",
   "id": "2faa51ff",
   "metadata": {},
   "source": [
    "**Промежуточный вывод:** мы проверили на сколько процентов отличается относительные приросты между событиями в группах А и А, выяснили что различия в них 1-2%, что допустимо."
   ]
  },
  {
   "cell_type": "markdown",
   "id": "b7803f1f",
   "metadata": {},
   "source": [
    "Чтобы подтвердить что группы A и A не отличаются проверим гипотезу о равенстве долей."
   ]
  },
  {
   "cell_type": "markdown",
   "id": "d2cc383d",
   "metadata": {},
   "source": [
    "Для начала A/A тестирования сформируем гипотезы - нулевую и альтернативную:\n",
    "```\n",
    "H_0: доля пользователей дошедших до последнего шага группы A = доля пользователей дошедших до последнего шага группы A\n",
    "H_a: доля пользователей дошедших до последнего шага группы A ≠ доля пользователей дошедших до последнего шага группы A\n",
    "alpha = 0.05\n",
    "```"
   ]
  },
  {
   "cell_type": "code",
   "execution_count": 50,
   "id": "7d59e494",
   "metadata": {},
   "outputs": [
    {
     "name": "stdout",
     "output_type": "stream",
     "text": [
      "p-значение:  0.12044299485641763\n",
      "Не получилось отвергнуть нулевую гипотезу, нет оснований считать доли разными\n"
     ]
    }
   ],
   "source": [
    "alpha = .05 # критический уровень статистической значимости\n",
    "\n",
    "successes = np.array([exp_246.loc['PaymentScreenSuccessful', 'quantity_of_users'],\n",
    "                      exp_247.loc['PaymentScreenSuccessful', 'quantity_of_users']])\n",
    "trials = np.array([exp_246.loc['MainScreenAppear', 'quantity_of_users'],\n",
    "                   exp_247.loc['MainScreenAppear', 'quantity_of_users']])\n",
    "\n",
    "# пропорция успехов в первой группе:\n",
    "p1 = successes[0]/trials[0]\n",
    "\n",
    "# пропорция успехов во второй группе:\n",
    "p2 = successes[1]/trials[1]\n",
    "\n",
    "# пропорция успехов в комбинированном датасете:\n",
    "p_combined = (successes[0] + successes[1]) / (trials[0] + trials[1])\n",
    "\n",
    "# разница пропорций в датасетах\n",
    "difference = p1 - p2 \n",
    "\n",
    "# считаем статистику в ст.отклонениях стандартного нормального распределения\n",
    "z_value = difference / mth.sqrt(p_combined * (1 - p_combined) * (1/trials[0] + 1/trials[1]))\n",
    "\n",
    "# задаем стандартное нормальное распределение (среднее 0, ст.отклонение 1)\n",
    "distr = stats.norm(0, 1)  \n",
    "\n",
    "p_value = (1 - distr.cdf(abs(z_value))) * 2\n",
    "\n",
    "print('p-значение: ', p_value)\n",
    "\n",
    "if p_value < alpha:\n",
    "    print('Отвергаем нулевую гипотезу: между долями есть значимая разница')\n",
    "else:\n",
    "    print(\n",
    "        'Не получилось отвергнуть нулевую гипотезу, нет оснований считать доли разными'\n",
    "    ) "
   ]
  },
  {
   "cell_type": "markdown",
   "id": "9b446aff",
   "metadata": {},
   "source": [
    "**Вывод:** не получилось отвергнуть нулевую гипотезу, а значит нет основний считать доли разными"
   ]
  },
  {
   "cell_type": "markdown",
   "id": "66914f1f",
   "metadata": {},
   "source": []
  }
 ],
 "metadata": {
  "kernelspec": {
   "display_name": "Python 3 (ipykernel)",
   "language": "python",
   "name": "python3"
  },
  "language_info": {
   "codemirror_mode": {
    "name": "ipython",
    "version": 3
   },
   "file_extension": ".py",
   "mimetype": "text/x-python",
   "name": "python",
   "nbconvert_exporter": "python",
   "pygments_lexer": "ipython3",
   "version": "3.9.13"
  },
  "toc": {
   "base_numbering": 1,
   "nav_menu": {},
   "number_sections": true,
   "sideBar": true,
   "skip_h1_title": true,
   "title_cell": "Table of Contents",
   "title_sidebar": "Contents",
   "toc_cell": true,
   "toc_position": {},
   "toc_section_display": true,
   "toc_window_display": false
  }
 },
 "nbformat": 4,
 "nbformat_minor": 5
}
